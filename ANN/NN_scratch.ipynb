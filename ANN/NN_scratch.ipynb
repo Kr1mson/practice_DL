{
 "cells": [
  {
   "cell_type": "code",
   "execution_count": 81,
   "id": "037b14bd",
   "metadata": {},
   "outputs": [],
   "source": [
    "import pandas as pd\n",
    "import numpy as np"
   ]
  },
  {
   "cell_type": "code",
   "execution_count": 82,
   "id": "c093b2b1",
   "metadata": {},
   "outputs": [],
   "source": [
    "data=pd.read_csv('mnist.csv')"
   ]
  },
  {
   "cell_type": "code",
   "execution_count": 83,
   "id": "ed24674d",
   "metadata": {},
   "outputs": [
    {
     "data": {
      "text/html": [
       "<div>\n",
       "<style scoped>\n",
       "    .dataframe tbody tr th:only-of-type {\n",
       "        vertical-align: middle;\n",
       "    }\n",
       "\n",
       "    .dataframe tbody tr th {\n",
       "        vertical-align: top;\n",
       "    }\n",
       "\n",
       "    .dataframe thead th {\n",
       "        text-align: right;\n",
       "    }\n",
       "</style>\n",
       "<table border=\"1\" class=\"dataframe\">\n",
       "  <thead>\n",
       "    <tr style=\"text-align: right;\">\n",
       "      <th></th>\n",
       "      <th>label</th>\n",
       "      <th>1x1</th>\n",
       "      <th>1x2</th>\n",
       "      <th>1x3</th>\n",
       "      <th>1x4</th>\n",
       "      <th>1x5</th>\n",
       "      <th>1x6</th>\n",
       "      <th>1x7</th>\n",
       "      <th>1x8</th>\n",
       "      <th>1x9</th>\n",
       "      <th>...</th>\n",
       "      <th>28x19</th>\n",
       "      <th>28x20</th>\n",
       "      <th>28x21</th>\n",
       "      <th>28x22</th>\n",
       "      <th>28x23</th>\n",
       "      <th>28x24</th>\n",
       "      <th>28x25</th>\n",
       "      <th>28x26</th>\n",
       "      <th>28x27</th>\n",
       "      <th>28x28</th>\n",
       "    </tr>\n",
       "  </thead>\n",
       "  <tbody>\n",
       "    <tr>\n",
       "      <th>0</th>\n",
       "      <td>5</td>\n",
       "      <td>0</td>\n",
       "      <td>0</td>\n",
       "      <td>0</td>\n",
       "      <td>0</td>\n",
       "      <td>0</td>\n",
       "      <td>0</td>\n",
       "      <td>0</td>\n",
       "      <td>0</td>\n",
       "      <td>0</td>\n",
       "      <td>...</td>\n",
       "      <td>0</td>\n",
       "      <td>0</td>\n",
       "      <td>0</td>\n",
       "      <td>0</td>\n",
       "      <td>0</td>\n",
       "      <td>0</td>\n",
       "      <td>0</td>\n",
       "      <td>0</td>\n",
       "      <td>0</td>\n",
       "      <td>0</td>\n",
       "    </tr>\n",
       "    <tr>\n",
       "      <th>1</th>\n",
       "      <td>0</td>\n",
       "      <td>0</td>\n",
       "      <td>0</td>\n",
       "      <td>0</td>\n",
       "      <td>0</td>\n",
       "      <td>0</td>\n",
       "      <td>0</td>\n",
       "      <td>0</td>\n",
       "      <td>0</td>\n",
       "      <td>0</td>\n",
       "      <td>...</td>\n",
       "      <td>0</td>\n",
       "      <td>0</td>\n",
       "      <td>0</td>\n",
       "      <td>0</td>\n",
       "      <td>0</td>\n",
       "      <td>0</td>\n",
       "      <td>0</td>\n",
       "      <td>0</td>\n",
       "      <td>0</td>\n",
       "      <td>0</td>\n",
       "    </tr>\n",
       "    <tr>\n",
       "      <th>2</th>\n",
       "      <td>4</td>\n",
       "      <td>0</td>\n",
       "      <td>0</td>\n",
       "      <td>0</td>\n",
       "      <td>0</td>\n",
       "      <td>0</td>\n",
       "      <td>0</td>\n",
       "      <td>0</td>\n",
       "      <td>0</td>\n",
       "      <td>0</td>\n",
       "      <td>...</td>\n",
       "      <td>0</td>\n",
       "      <td>0</td>\n",
       "      <td>0</td>\n",
       "      <td>0</td>\n",
       "      <td>0</td>\n",
       "      <td>0</td>\n",
       "      <td>0</td>\n",
       "      <td>0</td>\n",
       "      <td>0</td>\n",
       "      <td>0</td>\n",
       "    </tr>\n",
       "    <tr>\n",
       "      <th>3</th>\n",
       "      <td>1</td>\n",
       "      <td>0</td>\n",
       "      <td>0</td>\n",
       "      <td>0</td>\n",
       "      <td>0</td>\n",
       "      <td>0</td>\n",
       "      <td>0</td>\n",
       "      <td>0</td>\n",
       "      <td>0</td>\n",
       "      <td>0</td>\n",
       "      <td>...</td>\n",
       "      <td>0</td>\n",
       "      <td>0</td>\n",
       "      <td>0</td>\n",
       "      <td>0</td>\n",
       "      <td>0</td>\n",
       "      <td>0</td>\n",
       "      <td>0</td>\n",
       "      <td>0</td>\n",
       "      <td>0</td>\n",
       "      <td>0</td>\n",
       "    </tr>\n",
       "    <tr>\n",
       "      <th>4</th>\n",
       "      <td>9</td>\n",
       "      <td>0</td>\n",
       "      <td>0</td>\n",
       "      <td>0</td>\n",
       "      <td>0</td>\n",
       "      <td>0</td>\n",
       "      <td>0</td>\n",
       "      <td>0</td>\n",
       "      <td>0</td>\n",
       "      <td>0</td>\n",
       "      <td>...</td>\n",
       "      <td>0</td>\n",
       "      <td>0</td>\n",
       "      <td>0</td>\n",
       "      <td>0</td>\n",
       "      <td>0</td>\n",
       "      <td>0</td>\n",
       "      <td>0</td>\n",
       "      <td>0</td>\n",
       "      <td>0</td>\n",
       "      <td>0</td>\n",
       "    </tr>\n",
       "  </tbody>\n",
       "</table>\n",
       "<p>5 rows × 785 columns</p>\n",
       "</div>"
      ],
      "text/plain": [
       "   label  1x1  1x2  1x3  1x4  1x5  1x6  1x7  1x8  1x9  ...  28x19  28x20  \\\n",
       "0      5    0    0    0    0    0    0    0    0    0  ...      0      0   \n",
       "1      0    0    0    0    0    0    0    0    0    0  ...      0      0   \n",
       "2      4    0    0    0    0    0    0    0    0    0  ...      0      0   \n",
       "3      1    0    0    0    0    0    0    0    0    0  ...      0      0   \n",
       "4      9    0    0    0    0    0    0    0    0    0  ...      0      0   \n",
       "\n",
       "   28x21  28x22  28x23  28x24  28x25  28x26  28x27  28x28  \n",
       "0      0      0      0      0      0      0      0      0  \n",
       "1      0      0      0      0      0      0      0      0  \n",
       "2      0      0      0      0      0      0      0      0  \n",
       "3      0      0      0      0      0      0      0      0  \n",
       "4      0      0      0      0      0      0      0      0  \n",
       "\n",
       "[5 rows x 785 columns]"
      ]
     },
     "execution_count": 83,
     "metadata": {},
     "output_type": "execute_result"
    }
   ],
   "source": [
    "data.head()"
   ]
  },
  {
   "cell_type": "code",
   "execution_count": 84,
   "id": "036004b5",
   "metadata": {},
   "outputs": [],
   "source": [
    "data=np.array(data)\n",
    "m,n=data.shape\n",
    "np.random.shuffle(data)\n",
    "\n",
    "data_dev=data[:1000].T\n",
    "Y_dev=data_dev[0]\n",
    "X_dev=data_dev[1:]\n",
    "\n",
    "data_train=data[1000:].T\n",
    "Y_train=data_train[0]\n",
    "X_train=data_train[1:]"
   ]
  },
  {
   "cell_type": "code",
   "execution_count": 85,
   "id": "1b0f3fba",
   "metadata": {},
   "outputs": [],
   "source": [
    "X_train = X_train / 255.\n",
    "X_dev = X_dev / 255."
   ]
  },
  {
   "cell_type": "code",
   "execution_count": 86,
   "id": "66c870ed",
   "metadata": {},
   "outputs": [],
   "source": [
    "def init_params():\n",
    "  W1 = np.random.randn(10, 784) * np.sqrt(1 / 784)\n",
    "  W2 = np.random.randn(10, 10) * np.sqrt(1 / 10)\n",
    "  B1 = np.zeros((10, 1))\n",
    "  B2 = np.zeros((10, 1))\n",
    "  return W1, B1, W2, B2"
   ]
  },
  {
   "cell_type": "code",
   "execution_count": 87,
   "id": "959e15fe",
   "metadata": {},
   "outputs": [],
   "source": [
    "def ReLU(z):\n",
    "  return np.maximum(z,0)\n",
    "\n",
    "def Softmax(z):\n",
    "    z = z - np.max(z, axis=0, keepdims=True)\n",
    "    exp_z = np.exp(z)\n",
    "    return exp_z / np.sum(exp_z, axis=0, keepdims=True)"
   ]
  },
  {
   "cell_type": "code",
   "execution_count": 88,
   "id": "a61850f5",
   "metadata": {},
   "outputs": [],
   "source": [
    "def fwd(W1,B1,W2,B2,X):\n",
    "  Z1=W1.dot(X)+B1\n",
    "  A1=ReLU(Z1)\n",
    "  Z2=W2.dot(A1)+B2\n",
    "  A2=Softmax(Z2)\n",
    "  return Z1,A1,Z2,A2"
   ]
  },
  {
   "cell_type": "code",
   "execution_count": 89,
   "id": "c2460e5e",
   "metadata": {},
   "outputs": [],
   "source": [
    "def one_hot(Y):\n",
    "  one_hot_Y=np.zeros((Y.size,Y.max()+1))\n",
    "  one_hot_Y[np.arange(Y.size),Y]=1\n",
    "  one_hot_Y=one_hot_Y.T\n",
    "  return one_hot_Y"
   ]
  },
  {
   "cell_type": "code",
   "execution_count": 90,
   "id": "0589b374",
   "metadata": {},
   "outputs": [],
   "source": [
    "def deriv_ReLU(z):\n",
    "  return z>0"
   ]
  },
  {
   "cell_type": "code",
   "execution_count": 91,
   "id": "89e2aa2c",
   "metadata": {},
   "outputs": [],
   "source": [
    "def bck(Z1,A1,Z2,A2,W2,X,Y):\n",
    "  m=Y.size\n",
    "  one_hot_Y=one_hot(Y)\n",
    "  dZ2=A2-one_hot_Y\n",
    "  dW2=1/m*dZ2.dot(A1.T)\n",
    "  dB2=(1/m)*np.sum(dZ2,axis=1,keepdims=True)\n",
    "  dZ1=W2.T.dot(dZ2)*deriv_ReLU(Z1)\n",
    "  dW1=(1/m)*dZ1.dot(X.T)\n",
    "  dB1=(1/m)*np.sum(dZ1,axis=1,keepdims=True)\n",
    "  return dW1,dB1,dW2,dB2"
   ]
  },
  {
   "cell_type": "code",
   "execution_count": 92,
   "id": "856b17ab",
   "metadata": {},
   "outputs": [],
   "source": [
    "def update_params(W1,B1,W2,B2,dW1,dB1,dW2,dB2,alpha):\n",
    "  W1=W1-alpha*dW1\n",
    "  B1=B1-alpha*dB1\n",
    "  W2=W2-alpha*dW2\n",
    "  B2=B2-alpha*dB2\n",
    "  return W1,B1,W2,B2"
   ]
  },
  {
   "cell_type": "code",
   "execution_count": 93,
   "id": "a7b49911",
   "metadata": {},
   "outputs": [],
   "source": [
    "def get_predictions(A2):\n",
    "  return np.argmax(A2,0)\n",
    "\n",
    "def get_accuracy(predictions,Y):\n",
    "  return np.sum(predictions==Y)/Y.size"
   ]
  },
  {
   "cell_type": "code",
   "execution_count": 94,
   "id": "d4a49703",
   "metadata": {},
   "outputs": [],
   "source": [
    "def gradient_descent(X,Y,iterations,alpha):\n",
    "  W1,B1,W2,B2=init_params()\n",
    "  for i in range(iterations):\n",
    "    Z1,A1,Z2,A2=fwd(W1,B1,W2,B2,X)\n",
    "    dW1,dB1,dW2,dB2=bck(Z1,A1,Z2,A2,W2,X,Y)\n",
    "    W1,B1,W2,B2=update_params(W1,B1,W2,B2,dW1,dB1,dW2,dB2,alpha)\n",
    "    if i%50==0:\n",
    "      print(f'Iteration: {i}')\n",
    "      print(f\"Accuracy: {get_accuracy(get_predictions(A2),Y)}\")\n",
    "  return W1,B1,W2,B2"
   ]
  },
  {
   "cell_type": "code",
   "execution_count": 97,
   "id": "7b63a8a4",
   "metadata": {},
   "outputs": [
    {
     "name": "stdout",
     "output_type": "stream",
     "text": [
      "Iteration: 0\n",
      "Accuracy: 0.11966101694915254\n",
      "Iteration: 50\n",
      "Accuracy: 0.39552542372881355\n",
      "Iteration: 100\n",
      "Accuracy: 0.5300508474576271\n",
      "Iteration: 150\n",
      "Accuracy: 0.601271186440678\n",
      "Iteration: 200\n",
      "Accuracy: 0.654\n",
      "Iteration: 250\n",
      "Accuracy: 0.6891525423728814\n",
      "Iteration: 300\n",
      "Accuracy: 0.7111525423728814\n",
      "Iteration: 350\n",
      "Accuracy: 0.7303050847457627\n",
      "Iteration: 400\n",
      "Accuracy: 0.7449491525423729\n",
      "Iteration: 450\n",
      "Accuracy: 0.7573898305084745\n"
     ]
    }
   ],
   "source": [
    "W1,B1,W2,B2=gradient_descent(X_train,Y_train,500,0.01)"
   ]
  },
  {
   "cell_type": "code",
   "execution_count": 98,
   "id": "9d9e05cf",
   "metadata": {},
   "outputs": [
    {
     "name": "stdout",
     "output_type": "stream",
     "text": [
      "Dev Set Accuracy: 0.748\n"
     ]
    }
   ],
   "source": [
    "Z1_dev, A1_dev, Z2_dev, A2_dev = fwd(W1, B1, W2, B2, X_dev)\n",
    "acc_dev = get_accuracy(get_predictions(A2_dev), Y_dev)\n",
    "print(\"Dev Set Accuracy:\", acc_dev)\n"
   ]
  },
  {
   "cell_type": "code",
   "execution_count": null,
   "id": "270b1e40",
   "metadata": {},
   "outputs": [],
   "source": []
  }
 ],
 "metadata": {
  "kernelspec": {
   "display_name": "Python 3",
   "language": "python",
   "name": "python3"
  },
  "language_info": {
   "codemirror_mode": {
    "name": "ipython",
    "version": 3
   },
   "file_extension": ".py",
   "mimetype": "text/x-python",
   "name": "python",
   "nbconvert_exporter": "python",
   "pygments_lexer": "ipython3",
   "version": "3.12.6"
  }
 },
 "nbformat": 4,
 "nbformat_minor": 5
}
